{
 "cells": [
  {
   "cell_type": "code",
   "execution_count": 1,
   "id": "134689ca",
   "metadata": {},
   "outputs": [],
   "source": [
    "# import Required libraries\n",
    "import tweepy as tw\n",
    "import pandas as pd\n",
    "import re\n",
    "import nltk"
   ]
  },
  {
   "cell_type": "code",
   "execution_count": 2,
   "id": "7b2d134a",
   "metadata": {},
   "outputs": [
    {
     "name": "stderr",
     "output_type": "stream",
     "text": [
      "[nltk_data] Downloading package words to\n",
      "[nltk_data]     C:\\Users\\Raj\\AppData\\Roaming\\nltk_data...\n",
      "[nltk_data]   Package words is already up-to-date!\n"
     ]
    }
   ],
   "source": [
    "nltk.download('words')\n",
    "words = set(nltk.corpus.words.words())"
   ]
  },
  {
   "cell_type": "code",
   "execution_count": 3,
   "id": "8eeccdaa",
   "metadata": {},
   "outputs": [],
   "source": [
    "ACCESS_TOKEN = \"1333702970416918528-bW0xkh8vvV6Ni3dJZp1MiiMvBhZU91\"\n",
    "ACCESS_TOKEN_SECRET = \"gcIbfc0FQ9MsVVFeuDGf978IHsZJbCXQ1EkhnOa0jQqw1\"\n",
    "CONSUMER_API_KEY = \"40fkA3lWN3KocLff96p8g1ohq\"\n",
    "CONSUMER_API_SECRET = \"Rumr6SKiCNL4YcWw74LtvpETPAckgPfAc18xjBsTszXtIoSNUG\""
   ]
  },
  {
   "cell_type": "code",
   "execution_count": 4,
   "id": "be6cb00b",
   "metadata": {},
   "outputs": [],
   "source": [
    "# Create an Authentication Object\n",
    "auth = tw.OAuthHandler(CONSUMER_API_KEY, CONSUMER_API_SECRET)"
   ]
  },
  {
   "cell_type": "code",
   "execution_count": 5,
   "id": "3946f4c2",
   "metadata": {},
   "outputs": [],
   "source": [
    "# Creat your Access Token to authenticate object\n",
    "auth.set_access_token(ACCESS_TOKEN, ACCESS_TOKEN_SECRET)"
   ]
  },
  {
   "cell_type": "code",
   "execution_count": 6,
   "id": "a78be6ba",
   "metadata": {},
   "outputs": [],
   "source": [
    "# Create an API Object passing auth object\n",
    "api = tw.API(auth)"
   ]
  },
  {
   "cell_type": "code",
   "execution_count": 11,
   "id": "b94e1266",
   "metadata": {},
   "outputs": [],
   "source": [
    "key_word = ['Corona', 'ElonMusk', 'BillGates', 'Rihanna']\n",
    "no_of_tweets = 250\n",
    "tweets = []\n",
    "likes = []\n",
    "time = []"
   ]
  },
  {
   "cell_type": "code",
   "execution_count": 12,
   "id": "1c341173",
   "metadata": {
    "scrolled": true
   },
   "outputs": [
    {
     "name": "stderr",
     "output_type": "stream",
     "text": [
      "Unexpected parameter: id\n",
      "Unexpected parameter: lang\n",
      "Unexpected parameter: id\n",
      "Unexpected parameter: lang\n",
      "Unexpected parameter: id\n",
      "Unexpected parameter: lang\n",
      "Unexpected parameter: id\n",
      "Unexpected parameter: lang\n",
      "Unexpected parameter: id\n",
      "Unexpected parameter: lang\n",
      "Unexpected parameter: id\n",
      "Unexpected parameter: lang\n",
      "Unexpected parameter: id\n",
      "Unexpected parameter: lang\n",
      "Unexpected parameter: id\n",
      "Unexpected parameter: lang\n",
      "Unexpected parameter: id\n",
      "Unexpected parameter: lang\n",
      "Unexpected parameter: id\n",
      "Unexpected parameter: lang\n",
      "Unexpected parameter: id\n",
      "Unexpected parameter: lang\n",
      "Unexpected parameter: id\n",
      "Unexpected parameter: lang\n",
      "Unexpected parameter: id\n",
      "Unexpected parameter: lang\n",
      "Unexpected parameter: id\n",
      "Unexpected parameter: lang\n",
      "Unexpected parameter: id\n",
      "Unexpected parameter: lang\n",
      "Unexpected parameter: id\n",
      "Unexpected parameter: lang\n",
      "Unexpected parameter: id\n",
      "Unexpected parameter: lang\n",
      "Unexpected parameter: id\n",
      "Unexpected parameter: lang\n",
      "Unexpected parameter: id\n",
      "Unexpected parameter: lang\n",
      "Unexpected parameter: id\n",
      "Unexpected parameter: lang\n",
      "Unexpected parameter: id\n",
      "Unexpected parameter: lang\n",
      "Unexpected parameter: id\n",
      "Unexpected parameter: lang\n",
      "Unexpected parameter: id\n",
      "Unexpected parameter: lang\n",
      "Unexpected parameter: id\n",
      "Unexpected parameter: lang\n",
      "Unexpected parameter: id\n",
      "Unexpected parameter: lang\n",
      "Unexpected parameter: id\n",
      "Unexpected parameter: lang\n",
      "Unexpected parameter: id\n",
      "Unexpected parameter: lang\n",
      "Unexpected parameter: id\n",
      "Unexpected parameter: lang\n",
      "Unexpected parameter: id\n",
      "Unexpected parameter: lang\n",
      "Unexpected parameter: id\n",
      "Unexpected parameter: lang\n",
      "Unexpected parameter: id\n",
      "Unexpected parameter: lang\n",
      "Unexpected parameter: id\n",
      "Unexpected parameter: lang\n",
      "Unexpected parameter: id\n",
      "Unexpected parameter: lang\n",
      "Unexpected parameter: id\n",
      "Unexpected parameter: lang\n",
      "Unexpected parameter: id\n",
      "Unexpected parameter: lang\n",
      "Unexpected parameter: id\n",
      "Unexpected parameter: lang\n",
      "Unexpected parameter: id\n",
      "Unexpected parameter: lang\n",
      "Unexpected parameter: id\n",
      "Unexpected parameter: lang\n",
      "Unexpected parameter: id\n",
      "Unexpected parameter: lang\n",
      "Unexpected parameter: id\n",
      "Unexpected parameter: lang\n",
      "Unexpected parameter: id\n",
      "Unexpected parameter: lang\n",
      "Unexpected parameter: id\n",
      "Unexpected parameter: lang\n"
     ]
    }
   ],
   "source": [
    "for tweet in key_word:\n",
    "    for i in tw.Cursor(api.user_timeline, id=tweet, tweet_mode = \"extended\", lang=\"en\").items(no_of_tweets):\n",
    "        tweets.append(i.full_text)\n",
    "        likes.append(i.favorite_count)    \n",
    "        time.append(i.created_at)"
   ]
  },
  {
   "cell_type": "code",
   "execution_count": 14,
   "id": "74bac14f",
   "metadata": {},
   "outputs": [
    {
     "data": {
      "text/html": [
       "<div>\n",
       "<style scoped>\n",
       "    .dataframe tbody tr th:only-of-type {\n",
       "        vertical-align: middle;\n",
       "    }\n",
       "\n",
       "    .dataframe tbody tr th {\n",
       "        vertical-align: top;\n",
       "    }\n",
       "\n",
       "    .dataframe thead th {\n",
       "        text-align: right;\n",
       "    }\n",
       "</style>\n",
       "<table border=\"1\" class=\"dataframe\">\n",
       "  <thead>\n",
       "    <tr style=\"text-align: right;\">\n",
       "      <th></th>\n",
       "      <th>tweets</th>\n",
       "      <th>likes</th>\n",
       "      <th>time</th>\n",
       "    </tr>\n",
       "  </thead>\n",
       "  <tbody>\n",
       "    <tr>\n",
       "      <th>0</th>\n",
       "      <td>We’ve always felt we have a responsibility to ...</td>\n",
       "      <td>16</td>\n",
       "      <td>2021-11-10 14:05:50+00:00</td>\n",
       "    </tr>\n",
       "    <tr>\n",
       "      <th>1</th>\n",
       "      <td>In the third and final part of his work #South...</td>\n",
       "      <td>7</td>\n",
       "      <td>2021-10-28 20:02:00+00:00</td>\n",
       "    </tr>\n",
       "    <tr>\n",
       "      <th>2</th>\n",
       "      <td>After time in the bush with the master tracker...</td>\n",
       "      <td>3</td>\n",
       "      <td>2021-10-27 15:35:00+00:00</td>\n",
       "    </tr>\n",
       "    <tr>\n",
       "      <th>3</th>\n",
       "      <td>While in South Africa Sam Potter headed inland...</td>\n",
       "      <td>9</td>\n",
       "      <td>2021-10-22 20:00:01+00:00</td>\n",
       "    </tr>\n",
       "    <tr>\n",
       "      <th>4</th>\n",
       "      <td>A short series by Sam Potter, Episode 2: Maste...</td>\n",
       "      <td>6</td>\n",
       "      <td>2021-10-21 17:01:00+00:00</td>\n",
       "    </tr>\n",
       "    <tr>\n",
       "      <th>...</th>\n",
       "      <td>...</td>\n",
       "      <td>...</td>\n",
       "      <td>...</td>\n",
       "    </tr>\n",
       "    <tr>\n",
       "      <th>767</th>\n",
       "      <td>I ❤️ the Migos!! Like my whole ghetto life was...</td>\n",
       "      <td>17581</td>\n",
       "      <td>2019-09-23 02:10:03+00:00</td>\n",
       "    </tr>\n",
       "    <tr>\n",
       "      <th>768</th>\n",
       "      <td>I asked bro, I want my mornings to start with ...</td>\n",
       "      <td>10520</td>\n",
       "      <td>2019-09-23 02:08:57+00:00</td>\n",
       "    </tr>\n",
       "    <tr>\n",
       "      <th>769</th>\n",
       "      <td>LAVEEERRRRNNNEEEE!!! I rewound this part 10000...</td>\n",
       "      <td>11135</td>\n",
       "      <td>2019-09-23 02:07:49+00:00</td>\n",
       "    </tr>\n",
       "    <tr>\n",
       "      <th>770</th>\n",
       "      <td>Fun fact: 21 Savage had chicken wings just bef...</td>\n",
       "      <td>14163</td>\n",
       "      <td>2019-09-23 02:06:56+00:00</td>\n",
       "    </tr>\n",
       "    <tr>\n",
       "      <th>771</th>\n",
       "      <td>These chicks is baaaaaaaddddd!!! I wanted to d...</td>\n",
       "      <td>7481</td>\n",
       "      <td>2019-09-23 02:05:30+00:00</td>\n",
       "    </tr>\n",
       "  </tbody>\n",
       "</table>\n",
       "<p>772 rows × 3 columns</p>\n",
       "</div>"
      ],
      "text/plain": [
       "                                                tweets  likes  \\\n",
       "0    We’ve always felt we have a responsibility to ...     16   \n",
       "1    In the third and final part of his work #South...      7   \n",
       "2    After time in the bush with the master tracker...      3   \n",
       "3    While in South Africa Sam Potter headed inland...      9   \n",
       "4    A short series by Sam Potter, Episode 2: Maste...      6   \n",
       "..                                                 ...    ...   \n",
       "767  I ❤️ the Migos!! Like my whole ghetto life was...  17581   \n",
       "768  I asked bro, I want my mornings to start with ...  10520   \n",
       "769  LAVEEERRRRNNNEEEE!!! I rewound this part 10000...  11135   \n",
       "770  Fun fact: 21 Savage had chicken wings just bef...  14163   \n",
       "771  These chicks is baaaaaaaddddd!!! I wanted to d...   7481   \n",
       "\n",
       "                         time  \n",
       "0   2021-11-10 14:05:50+00:00  \n",
       "1   2021-10-28 20:02:00+00:00  \n",
       "2   2021-10-27 15:35:00+00:00  \n",
       "3   2021-10-22 20:00:01+00:00  \n",
       "4   2021-10-21 17:01:00+00:00  \n",
       "..                        ...  \n",
       "767 2019-09-23 02:10:03+00:00  \n",
       "768 2019-09-23 02:08:57+00:00  \n",
       "769 2019-09-23 02:07:49+00:00  \n",
       "770 2019-09-23 02:06:56+00:00  \n",
       "771 2019-09-23 02:05:30+00:00  \n",
       "\n",
       "[772 rows x 3 columns]"
      ]
     },
     "execution_count": 14,
     "metadata": {},
     "output_type": "execute_result"
    }
   ],
   "source": [
    "df_tweet = pd.DataFrame({'tweets': tweets, 'likes':likes, 'time':time})\n",
    "df_tweet"
   ]
  },
  {
   "cell_type": "code",
   "execution_count": 15,
   "id": "9d8f60a0",
   "metadata": {},
   "outputs": [],
   "source": [
    "df_tweet.to_csv('Collected_tweet.csv')"
   ]
  },
  {
   "cell_type": "code",
   "execution_count": null,
   "id": "7665fb48",
   "metadata": {},
   "outputs": [],
   "source": []
  }
 ],
 "metadata": {
  "kernelspec": {
   "display_name": "Python 3",
   "language": "python",
   "name": "python3"
  },
  "language_info": {
   "codemirror_mode": {
    "name": "ipython",
    "version": 3
   },
   "file_extension": ".py",
   "mimetype": "text/x-python",
   "name": "python",
   "nbconvert_exporter": "python",
   "pygments_lexer": "ipython3",
   "version": "3.8.8"
  }
 },
 "nbformat": 4,
 "nbformat_minor": 5
}
